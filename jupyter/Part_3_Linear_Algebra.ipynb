{
 "cells": [
  {
   "cell_type": "markdown",
   "id": "6ecd2c27-d6b8-4c60-98fd-17d1713e09db",
   "metadata": {},
   "source": [
    "# Part 3: Linear Algebra with SymPy"
   ]
  },
  {
   "cell_type": "markdown",
   "id": "5e6f6026-54f5-4287-aa6e-c2a3fa9233af",
   "metadata": {},
   "source": [
    "In this section, we will explore some of SymPy's symbolic linear algebra functionality.\n",
    "\n",
    "First, let's import the full base package of SymPy in our Jupyter Lab notebook:"
   ]
  },
  {
   "cell_type": "code",
   "execution_count": 1,
   "id": "5a8bf17a-a0eb-478b-9d73-de09bad59d78",
   "metadata": {},
   "outputs": [],
   "source": [
    "from sympy import *"
   ]
  },
  {
   "cell_type": "markdown",
   "id": "69760308-4ad0-45ea-ad08-c506ee67a3ec",
   "metadata": {},
   "source": [
    "To construct both Matrices and vectors, Sympy gives us the `Matrix()` function, which takes nested Python `list` of symbols or constant values. \n",
    "\n",
    "Python `list`s are comma-separated sequences of values between square brackets (`[...]`). To denote a matrix, we pass a list of of lists, where each inner list corresponds to a row in the matrix. To create column vectors, only a single list of values is used.\n",
    "\n",
    "Here are some examples:"
   ]
  },
  {
   "cell_type": "code",
   "execution_count": 2,
   "id": "583bac7c-82a6-4a53-bb66-3e24339844d3",
   "metadata": {},
   "outputs": [
    {
     "data": {
      "text/latex": [
       "$\\displaystyle \\left[\\begin{matrix}1 & 2\\\\3 & 4\\end{matrix}\\right]$"
      ],
      "text/plain": [
       "Matrix([\n",
       "[1, 2],\n",
       "[3, 4]])"
      ]
     },
     "metadata": {},
     "output_type": "display_data"
    },
    {
     "data": {
      "text/latex": [
       "$\\displaystyle \\left[\\begin{matrix}5\\\\6\\end{matrix}\\right]$"
      ],
      "text/plain": [
       "Matrix([\n",
       "[5],\n",
       "[6]])"
      ]
     },
     "metadata": {},
     "output_type": "display_data"
    }
   ],
   "source": [
    "# create a matrix\n",
    "A = Matrix([ [1,2], [3,4] ])\n",
    "\n",
    "# create a column vector\n",
    "b = Matrix([5, 6])\n",
    "\n",
    "display(A)\n",
    "display(b)"
   ]
  },
  {
   "cell_type": "markdown",
   "id": "8250d7f3-67cb-4997-8128-7f273d123cfe",
   "metadata": {},
   "source": [
    "We can convert a column vector into a row vector by taking the transpose. In SymPy, we get the transpose with the `Matrix.T` attribute:"
   ]
  },
  {
   "cell_type": "code",
   "execution_count": 3,
   "id": "9cf4a335-20ed-4c6d-b80b-eebbf03f6b0d",
   "metadata": {},
   "outputs": [
    {
     "data": {
      "text/latex": [
       "$\\displaystyle \\left[\\begin{matrix}5 & 6\\end{matrix}\\right]$"
      ],
      "text/plain": [
       "Matrix([[5, 6]])"
      ]
     },
     "metadata": {},
     "output_type": "display_data"
    }
   ],
   "source": [
    "b_rowvec = b.T\n",
    "display(b_rowvec)"
   ]
  },
  {
   "cell_type": "markdown",
   "id": "ebd7fadc-0c75-41de-97a7-ed8442017159",
   "metadata": {},
   "source": [
    "## Symbolic Matrices"
   ]
  },
  {
   "cell_type": "markdown",
   "id": "46847c5b-bdfb-4be2-b0e8-26b7ddba02a8",
   "metadata": {},
   "source": [
    "In addition to constant-valued matrices, SymPy allows us to work with Matrices containing symbols and expressions. Here's an example of a matrix consisting entirely of symbols:"
   ]
  },
  {
   "cell_type": "code",
   "execution_count": 4,
   "id": "43d9297c-6b23-4073-adbe-9c84da4112e0",
   "metadata": {},
   "outputs": [],
   "source": [
    "x, y, z = symbols('x, y, z')\n",
    "B = Matrix([[x, y], [y, z]])"
   ]
  },
  {
   "cell_type": "markdown",
   "id": "98f5d29c-0461-4aee-bf77-9171ef2f44eb",
   "metadata": {},
   "source": [
    "Like with vectors, we can take the transpose or Hermitian adjoint (the complex conjugate transpose):"
   ]
  },
  {
   "cell_type": "code",
   "execution_count": 5,
   "id": "61a5b593-22e3-4add-8b96-54e7bff24782",
   "metadata": {},
   "outputs": [
    {
     "data": {
      "text/latex": [
       "$\\displaystyle \\left[\\begin{matrix}x & y\\\\y & z\\end{matrix}\\right]$"
      ],
      "text/plain": [
       "Matrix([\n",
       "[x, y],\n",
       "[y, z]])"
      ]
     },
     "metadata": {},
     "output_type": "display_data"
    },
    {
     "data": {
      "text/latex": [
       "$\\displaystyle \\left[\\begin{matrix}\\overline{x} & \\overline{y}\\\\\\overline{y} & \\overline{z}\\end{matrix}\\right]$"
      ],
      "text/plain": [
       "Matrix([\n",
       "[conjugate(x), conjugate(y)],\n",
       "[conjugate(y), conjugate(z)]])"
      ]
     },
     "metadata": {},
     "output_type": "display_data"
    }
   ],
   "source": [
    "display(B.T) # Transpose\n",
    "display(B.H) # Hermitian Adjoint (conjugate Transpose)"
   ]
  },
  {
   "cell_type": "markdown",
   "id": "7a19ec3c-5a4d-470b-b84a-d543ebbe4bea",
   "metadata": {},
   "source": [
    "Sympy supports operations between matrices, such as addition, subtraction, matrix multiplication, and scalar multiplication:"
   ]
  },
  {
   "cell_type": "code",
   "execution_count": 6,
   "id": "2cdeccff-227d-4078-9c10-53b42f02ba32",
   "metadata": {},
   "outputs": [
    {
     "data": {
      "text/latex": [
       "$\\displaystyle \\left[\\begin{matrix}x + 1 & y + 2\\\\y + 3 & z + 4\\end{matrix}\\right]$"
      ],
      "text/plain": [
       "Matrix([\n",
       "[x + 1, y + 2],\n",
       "[y + 3, z + 4]])"
      ]
     },
     "metadata": {},
     "output_type": "display_data"
    },
    {
     "data": {
      "text/latex": [
       "$\\displaystyle \\left[\\begin{matrix}x + 3 y & 2 x + 4 y\\\\y + 3 z & 2 y + 4 z\\end{matrix}\\right]$"
      ],
      "text/plain": [
       "Matrix([\n",
       "[x + 3*y, 2*x + 4*y],\n",
       "[y + 3*z, 2*y + 4*z]])"
      ]
     },
     "metadata": {},
     "output_type": "display_data"
    },
    {
     "data": {
      "text/latex": [
       "$\\displaystyle \\left[\\begin{matrix}2 x & 2 y\\\\2 y & 2 z\\end{matrix}\\right]$"
      ],
      "text/plain": [
       "Matrix([\n",
       "[2*x, 2*y],\n",
       "[2*y, 2*z]])"
      ]
     },
     "metadata": {},
     "output_type": "display_data"
    }
   ],
   "source": [
    "display(B + A) # Matrix Addition\n",
    "display(B @ A) # Matrix multiplication\n",
    "display(2 * B) # Scalar multiplication"
   ]
  },
  {
   "cell_type": "markdown",
   "id": "218edb88-6294-4241-b352-a0a4e30e9b72",
   "metadata": {},
   "source": [
    "It is also possible to compute matrix quantities like the determinant, rank, and the inverse of the matrix (if one exists):"
   ]
  },
  {
   "cell_type": "code",
   "execution_count": 7,
   "id": "8896129d-8b13-40ba-b2dd-f727b36b5b1a",
   "metadata": {},
   "outputs": [
    {
     "data": {
      "text/latex": [
       "$\\displaystyle x z - y^{2}$"
      ],
      "text/plain": [
       "x*z - y**2"
      ]
     },
     "metadata": {},
     "output_type": "display_data"
    },
    {
     "data": {
      "text/plain": [
       "2"
      ]
     },
     "metadata": {},
     "output_type": "display_data"
    },
    {
     "data": {
      "text/latex": [
       "$\\displaystyle \\left[\\begin{matrix}\\frac{z}{x z - y^{2}} & - \\frac{y}{x z - y^{2}}\\\\- \\frac{y}{x z - y^{2}} & \\frac{x}{x z - y^{2}}\\end{matrix}\\right]$"
      ],
      "text/plain": [
       "Matrix([\n",
       "[ z/(x*z - y**2), -y/(x*z - y**2)],\n",
       "[-y/(x*z - y**2),  x/(x*z - y**2)]])"
      ]
     },
     "metadata": {},
     "output_type": "display_data"
    }
   ],
   "source": [
    "display(B.det())  # Determinant\n",
    "display(B.rank()) # Rank\n",
    "display(B.inv())  # Inverse"
   ]
  },
  {
   "cell_type": "markdown",
   "id": "e49315c0-f43c-46f1-985e-4c4a18edaf52",
   "metadata": {},
   "source": [
    "## Eigendecomposition"
   ]
  },
  {
   "cell_type": "markdown",
   "id": "7eb7c0ff-a9f7-4443-885d-84c14ada2c00",
   "metadata": {},
   "source": [
    "An important property of matrices are their eigenvalues and eigenvectors. SymPy has several functions that let us compute the eigenvalues and eigenvectors of modestly sized symbolic matrices.\n",
    "\n",
    "To obtain the eigenvalues (and their multiplicities) for a matrix, we use the `Matrix.eigenvalues()` function. This returns a dictionary of key-value pairs, where the keys are the eigenvalue expressions and the values are their multiplicities:"
   ]
  },
  {
   "cell_type": "code",
   "execution_count": 8,
   "id": "cc0ca471-9d18-440c-bcf4-76d595f69fb8",
   "metadata": {},
   "outputs": [
    {
     "data": {
      "text/latex": [
       "$\\displaystyle \\frac{x}{2} + \\frac{z}{2} - \\frac{\\sqrt{x^{2} - 2 x z + 4 y^{2} + z^{2}}}{2}$"
      ],
      "text/plain": [
       "x/2 + z/2 - sqrt(x**2 - 2*x*z + 4*y**2 + z**2)/2"
      ]
     },
     "metadata": {},
     "output_type": "display_data"
    },
    {
     "name": "stdout",
     "output_type": "stream",
     "text": [
      "Multiplicity: 1\n"
     ]
    },
    {
     "data": {
      "text/latex": [
       "$\\displaystyle \\frac{x}{2} + \\frac{z}{2} + \\frac{\\sqrt{x^{2} - 2 x z + 4 y^{2} + z^{2}}}{2}$"
      ],
      "text/plain": [
       "x/2 + z/2 + sqrt(x**2 - 2*x*z + 4*y**2 + z**2)/2"
      ]
     },
     "metadata": {},
     "output_type": "display_data"
    },
    {
     "name": "stdout",
     "output_type": "stream",
     "text": [
      "Multiplicity: 1\n"
     ]
    }
   ],
   "source": [
    "eigs = B.eigenvals()\n",
    "\n",
    "for eigval, multiplicity in eigs.items():\n",
    "    display(eigval)\n",
    "    print('Multiplicity:', multiplicity)"
   ]
  },
  {
   "cell_type": "code",
   "execution_count": null,
   "id": "1bcda784-97f7-4a4e-90c0-010d212e7bb2",
   "metadata": {},
   "outputs": [],
   "source": []
  },
  {
   "cell_type": "markdown",
   "id": "5d1e3790-9918-42e1-94dd-61961af637e9",
   "metadata": {},
   "source": [
    "Most matrices $B$ can be diagonalized in the form\n",
    "\n",
    "$$B = P D P^{-1}$$\n",
    "\n",
    "where $D$ is a diagonal matrix containing the eigenvalues of $B$ and the columns of $P$ contain the corresponding eigenvectors. \n",
    "\n",
    "In SymPy, this decomposition is solved for via the `Matrix.diagonalize()` function:"
   ]
  },
  {
   "cell_type": "code",
   "execution_count": 9,
   "id": "0c30d435-44b5-4b69-8ee2-69b6015202ce",
   "metadata": {},
   "outputs": [
    {
     "data": {
      "text/latex": [
       "$\\displaystyle \\left[\\begin{matrix}\\frac{x - z - \\sqrt{x^{2} - 2 x z + 4 y^{2} + z^{2}}}{2 y} & \\frac{x - z + \\sqrt{x^{2} - 2 x z + 4 y^{2} + z^{2}}}{2 y}\\\\1 & 1\\end{matrix}\\right]$"
      ],
      "text/plain": [
       "Matrix([\n",
       "[(x - z - sqrt(x**2 - 2*x*z + 4*y**2 + z**2))/(2*y), (x - z + sqrt(x**2 - 2*x*z + 4*y**2 + z**2))/(2*y)],\n",
       "[                                                 1,                                                  1]])"
      ]
     },
     "metadata": {},
     "output_type": "display_data"
    },
    {
     "data": {
      "text/latex": [
       "$\\displaystyle \\left[\\begin{matrix}\\frac{x}{2} + \\frac{z}{2} - \\frac{\\sqrt{x^{2} - 2 x z + 4 y^{2} + z^{2}}}{2} & 0\\\\0 & \\frac{x}{2} + \\frac{z}{2} + \\frac{\\sqrt{x^{2} - 2 x z + 4 y^{2} + z^{2}}}{2}\\end{matrix}\\right]$"
      ],
      "text/plain": [
       "Matrix([\n",
       "[x/2 + z/2 - sqrt(x**2 - 2*x*z + 4*y**2 + z**2)/2,                                                0],\n",
       "[                                               0, x/2 + z/2 + sqrt(x**2 - 2*x*z + 4*y**2 + z**2)/2]])"
      ]
     },
     "metadata": {},
     "output_type": "display_data"
    }
   ],
   "source": [
    "P, D = B.diagonalize()\n",
    "\n",
    "# columns of P are eigenvectors:\n",
    "display(P)\n",
    "\n",
    "# diagonals of D are eigenvalues \n",
    "display(D)"
   ]
  },
  {
   "cell_type": "markdown",
   "id": "c670ba8c-29c0-46e5-8020-beff10890fbf",
   "metadata": {},
   "source": [
    "One can verify that this decomposition is valid by computing the product $P  D P^{-1}$ and simplifying:"
   ]
  },
  {
   "cell_type": "code",
   "execution_count": 10,
   "id": "dd21ed18-ba21-4264-ab48-367a8c55ef49",
   "metadata": {},
   "outputs": [
    {
     "data": {
      "text/latex": [
       "$\\displaystyle \\left[\\begin{matrix}x & y\\\\y & z\\end{matrix}\\right]$"
      ],
      "text/plain": [
       "Matrix([\n",
       "[x, y],\n",
       "[y, z]])"
      ]
     },
     "metadata": {},
     "output_type": "display_data"
    }
   ],
   "source": [
    "# B = P D P^{-1}\n",
    "display(simplify(P @ D @ P.inv()))"
   ]
  }
 ],
 "metadata": {
  "kernelspec": {
   "display_name": "Python 3 (ipykernel)",
   "language": "python",
   "name": "python3"
  },
  "language_info": {
   "codemirror_mode": {
    "name": "ipython",
    "version": 3
   },
   "file_extension": ".py",
   "mimetype": "text/x-python",
   "name": "python",
   "nbconvert_exporter": "python",
   "pygments_lexer": "ipython3",
   "version": "3.10.12"
  }
 },
 "nbformat": 4,
 "nbformat_minor": 5
}
