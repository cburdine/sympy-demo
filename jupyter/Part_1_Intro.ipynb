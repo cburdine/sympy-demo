{
 "cells": [
  {
   "cell_type": "markdown",
   "id": "f5af86e0-c4c7-4d59-8f33-2703ac1e1694",
   "metadata": {},
   "source": [
    "# Part I: Intro to SymPy"
   ]
  },
  {
   "cell_type": "markdown",
   "id": "911a50b6-c2e3-4d16-a91b-4fa21a89978a",
   "metadata": {},
   "source": [
    "## Installing SymPy\n",
    "\n",
    "Once you have Jupyter Lab up and running, you will need to install\n",
    "Sympy. You can do this in your Jupyter notebook by invoking the command shell using a line that begins with the `!` character.\n",
    "\n",
    "If you are using pip to manage your Python packages, you can install sympy with the command"
   ]
  },
  {
   "cell_type": "code",
   "execution_count": 1,
   "id": "1c73ab63-1246-4cfb-91df-ce8862dc56dc",
   "metadata": {},
   "outputs": [
    {
     "name": "stdout",
     "output_type": "stream",
     "text": [
      "Defaulting to user installation because normal site-packages is not writeable\n",
      "Requirement already satisfied: sympy in /home/colin/.local/lib/python3.10/site-packages (1.14.0)\n",
      "Requirement already satisfied: mpmath<1.4,>=1.1.0 in /home/colin/.local/lib/python3.10/site-packages (from sympy) (1.3.0)\n"
     ]
    }
   ],
   "source": [
    "!pip install --upgrade sympy"
   ]
  },
  {
   "cell_type": "markdown",
   "id": "c9f1c94f-9ad6-4d81-a0b9-d4a48f5c5e5e",
   "metadata": {},
   "source": [
    "(If you are using Anaconda, you should instead run `conda install sympy`)"
   ]
  },
  {
   "cell_type": "markdown",
   "id": "9310edef-1404-4852-9c2f-27649e836906",
   "metadata": {},
   "source": [
    "Let's make sure our SymPy installation worked by importing all functions in the SymPy base package:"
   ]
  },
  {
   "cell_type": "code",
   "execution_count": 2,
   "id": "c1176a8f-aca9-4d16-ad5d-5623628c7015",
   "metadata": {},
   "outputs": [],
   "source": [
    "from sympy import *"
   ]
  },
  {
   "cell_type": "markdown",
   "id": "832486ee-afc2-481b-b578-265dd4e66383",
   "metadata": {},
   "source": [
    "## Working with Symbols"
   ]
  },
  {
   "cell_type": "markdown",
   "id": "c030d810-7e51-473a-a921-846dbf8b9118",
   "metadata": {},
   "source": [
    "In SymPy, we can manipulate algebraic expressions that contain *symbols*, which are mathematical variables. The easiest way to create symbols is with the `symbols()` function:"
   ]
  },
  {
   "cell_type": "code",
   "execution_count": 3,
   "id": "32c6f6c2-d029-4810-9b0a-5176e8cd6b56",
   "metadata": {},
   "outputs": [],
   "source": [
    "# create a symbolic variable\n",
    "x = symbols('x')\n",
    "\n",
    "# create multiple symbolic variables\n",
    "y, z = symbols('y, z')"
   ]
  },
  {
   "cell_type": "markdown",
   "id": "355de662-c2cc-4701-9935-660a2feff124",
   "metadata": {},
   "source": [
    "In a Jupyter Lab notebook, we can display a symbol or any SymPy object using the `display()` function:"
   ]
  },
  {
   "cell_type": "code",
   "execution_count": 4,
   "id": "72cd2874-5b64-4d42-95ae-fe2eef8d198b",
   "metadata": {},
   "outputs": [
    {
     "data": {
      "text/latex": [
       "$\\displaystyle x$"
      ],
      "text/plain": [
       "x"
      ]
     },
     "metadata": {},
     "output_type": "display_data"
    }
   ],
   "source": [
    "# The display() function shows a formatted symbol\n",
    "display(x)"
   ]
  },
  {
   "cell_type": "markdown",
   "id": "7dba7a58-4c07-46ae-8121-4967e883ab7f",
   "metadata": {},
   "source": [
    "In addition to regular alphaber characters, greek characters, and even even word symbols are supported:"
   ]
  },
  {
   "cell_type": "code",
   "execution_count": 5,
   "id": "0cf65eb9-45f4-4032-8de0-578f9897e764",
   "metadata": {},
   "outputs": [
    {
     "data": {
      "text/latex": [
       "$\\displaystyle \\alpha$"
      ],
      "text/plain": [
       "alpha"
      ]
     },
     "metadata": {},
     "output_type": "display_data"
    },
    {
     "data": {
      "text/latex": [
       "$\\displaystyle \\beta$"
      ],
      "text/plain": [
       "beta"
      ]
     },
     "metadata": {},
     "output_type": "display_data"
    },
    {
     "data": {
      "text/latex": [
       "$\\displaystyle \\gamma$"
      ],
      "text/plain": [
       "gamma"
      ]
     },
     "metadata": {},
     "output_type": "display_data"
    }
   ],
   "source": [
    "# Greek symbols are also supported:\n",
    "a, b, c = symbols('alpha, beta, gamma')\n",
    "display(a, b, c)"
   ]
  },
  {
   "cell_type": "markdown",
   "id": "8bbccb0c-4329-4255-8883-ed75ab129fc6",
   "metadata": {},
   "source": [
    "## Building Expressions"
   ]
  },
  {
   "cell_type": "markdown",
   "id": "8d7f3007-22b1-4a27-b971-9512b5c638ab",
   "metadata": {},
   "source": [
    "To build mathematical expressions, we can combine multiple symbols or constant values using Python's math operators (`+`, `-`, `*`, `/`, etc.). Parentheses (`(`,`)`) can also be used to group expressions:"
   ]
  },
  {
   "cell_type": "code",
   "execution_count": 6,
   "id": "0ef38230-2b37-4881-94c0-430d8e5790c4",
   "metadata": {},
   "outputs": [
    {
     "data": {
      "text/latex": [
       "$\\displaystyle \\alpha + 2 x$"
      ],
      "text/plain": [
       "alpha + 2*x"
      ]
     },
     "metadata": {},
     "output_type": "display_data"
    }
   ],
   "source": [
    "# create a symbolic expression\n",
    "f = 2 * x + a\n",
    "display(f)"
   ]
  },
  {
   "cell_type": "markdown",
   "id": "c9679c9a-d419-4669-9cd0-992f8c4f9cb6",
   "metadata": {},
   "source": [
    "Observe that sometimes Sympy will re-arrange your verbatim expression into a more standard form."
   ]
  },
  {
   "cell_type": "markdown",
   "id": "a6740c78-b82e-4a7a-843c-4f1f91e405cd",
   "metadata": {},
   "source": [
    "When working with fractions, it is recommended to enclose the numerators and denominators in parentheses:"
   ]
  },
  {
   "cell_type": "code",
   "execution_count": 7,
   "id": "1de90e01-5e22-4a70-8e6a-4f81a537e158",
   "metadata": {},
   "outputs": [
    {
     "data": {
      "text/latex": [
       "$\\displaystyle \\frac{y^{2}}{z + 2}$"
      ],
      "text/plain": [
       "y**2/(z + 2)"
      ]
     },
     "metadata": {},
     "output_type": "display_data"
    }
   ],
   "source": [
    "# example of a fraction\n",
    "f = (y**2) / (z + 2)\n",
    "display(f)"
   ]
  },
  {
   "cell_type": "markdown",
   "id": "1935d263-6df0-4837-b71b-425542ca5de5",
   "metadata": {},
   "source": [
    "Since we imported all functions in the SymPy base package with the statement `from sympy import *` at the top of this notebook, we can call most common math functions by using their name:"
   ]
  },
  {
   "cell_type": "code",
   "execution_count": 8,
   "id": "855b202f-d0f2-4953-a45a-d082d101a052",
   "metadata": {},
   "outputs": [
    {
     "data": {
      "text/latex": [
       "$\\displaystyle \\frac{1}{\\sqrt{x^{2} + 1}}$"
      ],
      "text/plain": [
       "1/sqrt(x**2 + 1)"
      ]
     },
     "metadata": {},
     "output_type": "display_data"
    },
    {
     "data": {
      "text/latex": [
       "$\\displaystyle \\sqrt{e^{x} - \\left|{y}\\right|}$"
      ],
      "text/plain": [
       "sqrt(exp(x) - Abs(y))"
      ]
     },
     "metadata": {},
     "output_type": "display_data"
    }
   ],
   "source": [
    "# common math functions are also supported\n",
    "f1 = cos(atan(x))\n",
    "f2 = sqrt(exp(x) - abs(y))\n",
    "\n",
    "display(f1)\n",
    "display(f2)"
   ]
  },
  {
   "cell_type": "markdown",
   "id": "0d9dbdd6-3e2b-47fb-8134-4bc5d0be9c6a",
   "metadata": {},
   "source": [
    "SymPy also supports sev math constants, such as $\\pi$ (`pi`), Euler's exponential number (`E`), and the imaginary constant (`I`):"
   ]
  },
  {
   "cell_type": "code",
   "execution_count": 9,
   "id": "a623da34-4efe-458b-b773-6442f2cb96cb",
   "metadata": {},
   "outputs": [
    {
     "data": {
      "text/latex": [
       "$\\displaystyle \\frac{2 \\pi}{x}$"
      ],
      "text/plain": [
       "2*pi/x"
      ]
     },
     "metadata": {},
     "output_type": "display_data"
    },
    {
     "data": {
      "text/latex": [
       "$\\displaystyle e^{x}$"
      ],
      "text/plain": [
       "exp(x)"
      ]
     },
     "metadata": {},
     "output_type": "display_data"
    },
    {
     "data": {
      "text/latex": [
       "$\\displaystyle \\alpha + i \\beta$"
      ],
      "text/plain": [
       "alpha + I*beta"
      ]
     },
     "metadata": {},
     "output_type": "display_data"
    }
   ],
   "source": [
    "# common mathematical constants\n",
    "display(2 * pi / x)\n",
    "display(E ** x)\n",
    "display(a + b*I)"
   ]
  },
  {
   "cell_type": "markdown",
   "id": "ebdc9b50-67a2-4493-a8b1-cd4bc7d16273",
   "metadata": {},
   "source": [
    "When working with expressions involving complex numbers, it is often handy to use the `conjugate()` function to return the complex conjugate of complex numbers or expressions. When doing this, remember that SymPy assumes all symbols are complex numbers by default:"
   ]
  },
  {
   "cell_type": "code",
   "execution_count": 10,
   "id": "3cb37c16-ffcd-442f-bd82-8dd136217e02",
   "metadata": {},
   "outputs": [
    {
     "data": {
      "text/latex": [
       "$\\displaystyle \\alpha + i \\beta$"
      ],
      "text/plain": [
       "alpha + I*beta"
      ]
     },
     "metadata": {},
     "output_type": "display_data"
    },
    {
     "data": {
      "text/latex": [
       "$\\displaystyle \\overline{\\alpha} - i \\overline{\\beta}$"
      ],
      "text/plain": [
       "conjugate(alpha) - I*conjugate(beta)"
      ]
     },
     "metadata": {},
     "output_type": "display_data"
    }
   ],
   "source": [
    "f = a + b*I\n",
    "display(f)\n",
    "\n",
    "f_conj = conjugate(f)\n",
    "display(f_conj)"
   ]
  },
  {
   "cell_type": "markdown",
   "id": "f4a18e32-22be-466d-b640-2f9f5b820bd8",
   "metadata": {},
   "source": [
    "When defining constant fraction values using Python's built-in types, you must be cautious when applying certaub ioeratuibs, as integer types may converted into floating-point types, which Sympy treats differently. To avoid these issues, convert constant values to Sympy constants using the `S()` function (short for \"Sympify\"). Then any further math operations applied to them will give correct Sympy expressions:"
   ]
  },
  {
   "cell_type": "code",
   "execution_count": 11,
   "id": "e7a50bb3-e526-4934-8fe7-beb3f4bd4fc6",
   "metadata": {},
   "outputs": [
    {
     "data": {
      "text/plain": [
       "0.5"
      ]
     },
     "metadata": {},
     "output_type": "display_data"
    },
    {
     "data": {
      "text/latex": [
       "$\\displaystyle \\frac{1}{2}$"
      ],
      "text/plain": [
       "1/2"
      ]
     },
     "metadata": {},
     "output_type": "display_data"
    }
   ],
   "source": [
    "# incorrect way to define constant fractions\n",
    "display(1/2)\n",
    "\n",
    "# correctly define constant fractions using S()\n",
    "display( S(1)/2 )"
   ]
  },
  {
   "cell_type": "markdown",
   "id": "ce2a769f-b2b1-4eaf-beae-9c75f957d30c",
   "metadata": {},
   "source": [
    "## Simplifying Expressions\n",
    "\n",
    "SymPy supports basic simplification of mathematical expressions, using the `simplify()` function. While SymPy's simplification algorithm is not as robust as other platforms (such as Mathematica), it can handle most types of expressions:"
   ]
  },
  {
   "cell_type": "code",
   "execution_count": 12,
   "id": "f7e6d95f-0298-4e8f-bbd9-f16af692de31",
   "metadata": {},
   "outputs": [
    {
     "data": {
      "text/latex": [
       "$\\displaystyle \\frac{e^{i x}}{2} + \\frac{e^{- i x}}{2}$"
      ],
      "text/plain": [
       "exp(I*x)/2 + exp(-I*x)/2"
      ]
     },
     "metadata": {},
     "output_type": "display_data"
    },
    {
     "data": {
      "text/latex": [
       "$\\displaystyle \\cos{\\left(x \\right)}$"
      ],
      "text/plain": [
       "cos(x)"
      ]
     },
     "metadata": {},
     "output_type": "display_data"
    }
   ],
   "source": [
    "# create complex expression\n",
    "f = (exp(I*x) + exp(-I * x)) / 2\n",
    "display(f)\n",
    "\n",
    "# simplify expression\n",
    "f_simp = simplify(f)\n",
    "display(f_simp)"
   ]
  },
  {
   "cell_type": "markdown",
   "id": "0499695c-dd4d-4ff9-866b-cfe4a73e29ee",
   "metadata": {},
   "source": [
    "SymPy also has a good knowledge of common mathematical identities, and can apply them to simplify expressions:"
   ]
  },
  {
   "cell_type": "code",
   "execution_count": 13,
   "id": "26d82e8d-483d-4ed3-a489-b81fdfdd6a66",
   "metadata": {},
   "outputs": [
    {
     "data": {
      "text/latex": [
       "$\\displaystyle 1$"
      ],
      "text/plain": [
       "1"
      ]
     },
     "metadata": {},
     "output_type": "display_data"
    }
   ],
   "source": [
    "f = simplify(cos(x)**2 + sin(x)**2)\n",
    "display(f)"
   ]
  },
  {
   "cell_type": "markdown",
   "id": "5455a54c-92dd-46b2-9708-106509f3789b",
   "metadata": {},
   "source": [
    "## Substituting Symbols\n",
    "\n",
    "To substitute symbols in SymPy, we call the `expression.subs()` function, where `expression` is the expression we want to substitute values into. The `subs()` function takes a Python `dict` object as its argument.\n"
   ]
  },
  {
   "cell_type": "markdown",
   "id": "51638461-6dac-4bd7-9d79-3cde0d090950",
   "metadata": {},
   "source": [
    "A Python `dict` (short for \"dictionary\") is a data structure consisting of unique key-value pairs. We declare a dictionary using the following syntax:\n",
    "\n",
    "```\n",
    "my_dict = {\n",
    "    key1: value1,\n",
    "    key2: value2,\n",
    "    key3: value3\n",
    "}\n",
    "```\n",
    "\n",
    "where `key1`, `key2`, and `key3` are unique keys and `value1`, `value2`, and `value3` are their associated values."
   ]
  },
  {
   "cell_type": "markdown",
   "id": "3d548d80-df11-410f-93a7-948eb6424191",
   "metadata": {},
   "source": [
    "In Sympy, the dictionary we pass to `subs()` has keys containing the symbols we want to substitute, and values containing the expressions (or contant values) we want to substitute.\n",
    "\n",
    "Here's an example of how to use the `subs()` function:"
   ]
  },
  {
   "cell_type": "code",
   "execution_count": 14,
   "id": "c862a63c-8dcb-4a89-94b3-9f9968ed1a1f",
   "metadata": {},
   "outputs": [
    {
     "data": {
      "text/latex": [
       "$\\displaystyle e^{2 x + y}$"
      ],
      "text/plain": [
       "exp(2*x + y)"
      ]
     },
     "metadata": {},
     "output_type": "display_data"
    },
    {
     "data": {
      "text/latex": [
       "$\\displaystyle 9$"
      ],
      "text/plain": [
       "9"
      ]
     },
     "metadata": {},
     "output_type": "display_data"
    }
   ],
   "source": [
    "# create an expression\n",
    "f = exp(2 * x + y)\n",
    "\n",
    "# substitute two values at once:\n",
    "f_sub = f.subs({x: log(3), y: 0})\n",
    "\n",
    "display(f)\n",
    "display(f_sub)"
   ]
  }
 ],
 "metadata": {
  "kernelspec": {
   "display_name": "Python 3 (ipykernel)",
   "language": "python",
   "name": "python3"
  },
  "language_info": {
   "codemirror_mode": {
    "name": "ipython",
    "version": 3
   },
   "file_extension": ".py",
   "mimetype": "text/x-python",
   "name": "python",
   "nbconvert_exporter": "python",
   "pygments_lexer": "ipython3",
   "version": "3.10.12"
  }
 },
 "nbformat": 4,
 "nbformat_minor": 5
}
