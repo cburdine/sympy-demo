{
 "cells": [
  {
   "cell_type": "markdown",
   "id": "cbf55e33-f726-4c7d-b95c-23ee485eebd2",
   "metadata": {},
   "source": [
    "# Solving Equations with SymPy"
   ]
  },
  {
   "cell_type": "markdown",
   "id": "4e4a746e-d32a-4782-806a-ceeee6cd3a4e",
   "metadata": {},
   "source": [
    "In this section, we will explore some of SymPy's more advanced symbolic solving capabilities.\n",
    "\n",
    "First, let's import the full base package of SymPy in our Jupyter Lab notebook:"
   ]
  },
  {
   "cell_type": "code",
   "execution_count": 1,
   "id": "a566c3e1-11e7-45d3-9958-bc25b44f0de3",
   "metadata": {},
   "outputs": [],
   "source": [
    "from sympy import *"
   ]
  },
  {
   "cell_type": "markdown",
   "id": "e499fb92-e879-4fe7-8de7-38b97af01cbb",
   "metadata": {},
   "source": [
    "## Solving For Roots:"
   ]
  },
  {
   "cell_type": "markdown",
   "id": "9fc9aad1-4c4c-4d51-94ad-6b3ce85ec3c2",
   "metadata": {},
   "source": [
    "Some of the most difficult kinds of problems to solve symbolically are root-finding problems. Let's solve for the roots of a general form of a quadratic polynomial. To start, we will define real symbols that will serve as coefficients to the quadratic equation:"
   ]
  },
  {
   "cell_type": "code",
   "execution_count": 2,
   "id": "9ca12dd2-9fc7-4b81-a563-07055e64e28c",
   "metadata": {},
   "outputs": [
    {
     "data": {
      "text/latex": [
       "$\\displaystyle a x^{2} + b x + c$"
      ],
      "text/plain": [
       "a*x**2 + b*x + c"
      ]
     },
     "metadata": {},
     "output_type": "display_data"
    }
   ],
   "source": [
    "x = symbols('x')\n",
    "a, b, c = symbols('a, b, c', real=True)\n",
    "\n",
    "f = a*x**2 + b*x + c\n",
    "\n",
    "display(f)"
   ]
  },
  {
   "cell_type": "markdown",
   "id": "006771bb-1223-4a8d-b039-5e6fcda740d1",
   "metadata": {},
   "source": [
    "Next, we will call SymPy's `solve(f, symbol)` function, which solves for the roots of an expression `f` in terms of the symbol (or list of symbols) contained in `symbol`.\n",
    "\n",
    "If a solution is found, the `solve` function returns a list of possible solutions:"
   ]
  },
  {
   "cell_type": "code",
   "execution_count": 3,
   "id": "2959afcd-7f5f-4df5-9518-0e4643e5a49b",
   "metadata": {},
   "outputs": [
    {
     "data": {
      "text/latex": [
       "$\\displaystyle \\frac{- b - \\sqrt{- 4 a c + b^{2}}}{2 a}$"
      ],
      "text/plain": [
       "(-b - sqrt(-4*a*c + b**2))/(2*a)"
      ]
     },
     "metadata": {},
     "output_type": "display_data"
    },
    {
     "data": {
      "text/latex": [
       "$\\displaystyle \\frac{- b + \\sqrt{- 4 a c + b^{2}}}{2 a}$"
      ],
      "text/plain": [
       "(-b + sqrt(-4*a*c + b**2))/(2*a)"
      ]
     },
     "metadata": {},
     "output_type": "display_data"
    }
   ],
   "source": [
    "solution = solve(f,x)\n",
    "\n",
    "for expr in solution:\n",
    "    display(expr)"
   ]
  },
  {
   "cell_type": "markdown",
   "id": "cd50f894-354b-4394-9ddb-980358d92db5",
   "metadata": {},
   "source": [
    "## Solving Simultaneous Equations"
   ]
  },
  {
   "cell_type": "markdown",
   "id": "c548c759-b1eb-4ad7-bf13-1891abbe0acf",
   "metadata": {},
   "source": [
    "In addition to root-finding, we can also solve equations, or even systems of simultaneous equations. As an example, let's solve the system of equations\n",
    "\n",
    "$$\\begin{cases} \\sin(x) + y = 1 \\\\ \\cos(x) - y = 0 \\end{cases}$$\n",
    "for all solution pairs $(x,y)$. To define each equation, we use the `Eq()` function to combine a right-hand and left-hand side expression. We then pass a list of these equations into the `solve()` function. Since we are solving for multiple symbols at a time, it is helpful to return a list of dictionaries of symbol-value pairs using the `dict=True` argument:"
   ]
  },
  {
   "cell_type": "code",
   "execution_count": 4,
   "id": "7647bdf5-e423-456e-84bb-913f4dd0f24b",
   "metadata": {},
   "outputs": [
    {
     "data": {
      "text/plain": [
       "[{x: 0, y: 1}, {x: pi/2, y: 0}]"
      ]
     },
     "metadata": {},
     "output_type": "display_data"
    }
   ],
   "source": [
    "x, y = symbols('x, y', real=True)\n",
    "\n",
    "eqs = [\n",
    "    Eq(sin(x) + y, 1),\n",
    "    Eq(cos(x) - y, 0)\n",
    "]\n",
    "\n",
    "solution = solve(eqs, (x, y), dict=True)\n",
    "display(solution)"
   ]
  },
  {
   "cell_type": "markdown",
   "id": "53e73769-d2bf-491d-9ecb-6c76d49adfad",
   "metadata": {},
   "source": [
    "We see that the solutions are $(x,y) = (0,1)$ and $(\\pi/2, 0)$."
   ]
  },
  {
   "cell_type": "markdown",
   "id": "9936ab28-9fd5-490c-a4a7-a5edae86cccd",
   "metadata": {},
   "source": [
    "## Parametric Linear Systems of Equations:"
   ]
  },
  {
   "cell_type": "markdown",
   "id": "2c6fcf4d-ad57-4ff1-9990-b101fe6b96b3",
   "metadata": {},
   "source": [
    "We can also solve linear systems of equations that contain free parameters as linear coefficients. For example, to solve the equation\n",
    "\n",
    "$$\\begin{bmatrix} a & 1 \\\\ 1 & a \\end{bmatrix} \\begin{bmatrix} x \\\\ y \\end{bmatrix} = \\begin{bmatrix} 1 \\\\ 2 \\end{bmatrix}$$\n",
    "\n",
    "we first set up the matrices as follows:"
   ]
  },
  {
   "cell_type": "code",
   "execution_count": 5,
   "id": "e7421079-4a13-4841-8296-dc1e73c8bcb3",
   "metadata": {},
   "outputs": [
    {
     "data": {
      "text/latex": [
       "$\\displaystyle \\left[\\begin{matrix}a & 1\\\\1 & a\\end{matrix}\\right]$"
      ],
      "text/plain": [
       "Matrix([\n",
       "[a, 1],\n",
       "[1, a]])"
      ]
     },
     "metadata": {},
     "output_type": "display_data"
    },
    {
     "data": {
      "text/latex": [
       "$\\displaystyle \\left[\\begin{matrix}x\\\\y\\end{matrix}\\right]$"
      ],
      "text/plain": [
       "Matrix([\n",
       "[x],\n",
       "[y]])"
      ]
     },
     "metadata": {},
     "output_type": "display_data"
    }
   ],
   "source": [
    "x, y, a = symbols('x y a')\n",
    "M = Matrix([[a, 1], [1, a]])\n",
    "b = Matrix([x, y])\n",
    "c = Matrix([1, 2])\n",
    "\n",
    "display(M)\n",
    "display(b)"
   ]
  },
  {
   "cell_type": "markdown",
   "id": "45bce59c-96b9-4263-8a2c-ad78733b340c",
   "metadata": {},
   "source": [
    "Next, we call the `solve()` function:"
   ]
  },
  {
   "cell_type": "code",
   "execution_count": 6,
   "id": "94edff7b-698d-481f-b7d8-5eeeafb8efd1",
   "metadata": {},
   "outputs": [
    {
     "data": {
      "text/plain": [
       "[{a: -(-sqrt(y**2 - y + 1) - 1)/y, x: 1 - sqrt(y**2 - y + 1)},\n",
       " {a: -(sqrt(y**2 - y + 1) - 1)/y, x: sqrt(y**2 - y + 1) + 1}]"
      ]
     },
     "metadata": {},
     "output_type": "display_data"
    }
   ],
   "source": [
    "result = solve(Eq(M @ b, c), (x, y, a), dict=True)\n",
    "display(result)"
   ]
  }
 ],
 "metadata": {
  "kernelspec": {
   "display_name": "Python 3 (ipykernel)",
   "language": "python",
   "name": "python3"
  },
  "language_info": {
   "codemirror_mode": {
    "name": "ipython",
    "version": 3
   },
   "file_extension": ".py",
   "mimetype": "text/x-python",
   "name": "python",
   "nbconvert_exporter": "python",
   "pygments_lexer": "ipython3",
   "version": "3.10.12"
  }
 },
 "nbformat": 4,
 "nbformat_minor": 5
}
