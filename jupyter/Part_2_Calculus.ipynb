{
 "cells": [
  {
   "cell_type": "markdown",
   "id": "99b44a48-6c57-44e5-98fb-144da4210a8c",
   "metadata": {},
   "source": [
    "# Part 2: Calculus with SymPy"
   ]
  },
  {
   "cell_type": "markdown",
   "id": "4fed6358-f428-4562-9b0e-af9a42ddc478",
   "metadata": {},
   "source": [
    "Now that we have the basics under our belt, let's dig into some of the Calculus functionality of SymPy, such as the computation of derivatives and integrals of functions.\n",
    "\n",
    "To start, let's import the full base package of SymPy in our Jupyter Lab notebook:"
   ]
  },
  {
   "cell_type": "code",
   "execution_count": 1,
   "id": "b867d717-56df-47fd-92a3-4ba1edb21e88",
   "metadata": {},
   "outputs": [],
   "source": [
    "from sympy import *"
   ]
  },
  {
   "cell_type": "markdown",
   "id": "9f3a6d6d-bdc3-4a83-8970-c21a8b58e150",
   "metadata": {},
   "source": [
    "## Symbol Assumptions"
   ]
  },
  {
   "cell_type": "markdown",
   "id": "5f45ac78-5eda-4ac3-a2f7-37224f59bd29",
   "metadata": {},
   "source": [
    "Before doing some calculus, however, it is important to discuss how we can apply assumptions to our symbols. Stating our assumptions about symbols (such as whether or not a symbol is real, complex, positive, an integer, etc.) is crucial information that SymPy's calculus engine will need in order to compute derivatives that make sense.\n",
    "\n",
    "Here are some symbols that we will use in this notebook, and their assumptions:"
   ]
  },
  {
   "cell_type": "code",
   "execution_count": 2,
   "id": "c97ab7e6-b0f9-4395-b907-2bf423cd5819",
   "metadata": {},
   "outputs": [],
   "source": [
    "# create real-valued symbols:\n",
    "x, y = symbols('x, y', real=True)\n",
    "\n",
    "# create positive-valued symbols:\n",
    "r = symbols('r', positive=True)\n",
    "\n",
    "# create integer symbols\n",
    "n, m = symbols('n, m', integer=True)\n",
    "\n",
    "# create complex-valued symbols (default):\n",
    "z = symbols('z')"
   ]
  },
  {
   "cell_type": "markdown",
   "id": "a3c71b92-9219-4906-918a-0f59be24880e",
   "metadata": {},
   "source": [
    "Let's begin by creating a polynomial expression involving the symbols $x$ and $y$:"
   ]
  },
  {
   "cell_type": "code",
   "execution_count": 3,
   "id": "188de537-3cbe-4cf1-b655-3899604cc8b0",
   "metadata": {},
   "outputs": [
    {
     "data": {
      "text/latex": [
       "$\\displaystyle 2 x^{3} + 3 x^{2} + 5 x y$"
      ],
      "text/plain": [
       "2*x**3 + 3*x**2 + 5*x*y"
      ]
     },
     "metadata": {},
     "output_type": "display_data"
    }
   ],
   "source": [
    "f = 2*x**3 + 3*x**2 + 5*x * y\n",
    "\n",
    "display(f)"
   ]
  },
  {
   "cell_type": "markdown",
   "id": "40f4239b-0b2a-4f74-826c-009400d04da3",
   "metadata": {},
   "source": [
    "## Derivatives\n",
    "\n",
    "In SymPy, we can compute partial derivatives of functions using the `diff(f, symbol)` function, where `f` is an expression, and `symbol` is the symbol (or list of symbols) the derivative is computed with respect to.\n",
    "\n",
    "Here are some examples of computing the partial derivatives $\\dfrac{\\partial f}{\\partial x}$ and $\\dfrac{\\partial f}{\\partial y}$ for the function $f(x,y)$ we defined earlier:"
   ]
  },
  {
   "cell_type": "code",
   "execution_count": 4,
   "id": "b3643f7c-1aa0-4f03-ba20-5fd7f0aa8849",
   "metadata": {},
   "outputs": [
    {
     "data": {
      "text/latex": [
       "$\\displaystyle 6 x^{2} + 6 x + 5 y$"
      ],
      "text/plain": [
       "6*x**2 + 6*x + 5*y"
      ]
     },
     "metadata": {},
     "output_type": "display_data"
    },
    {
     "data": {
      "text/latex": [
       "$\\displaystyle 5 x$"
      ],
      "text/plain": [
       "5*x"
      ]
     },
     "metadata": {},
     "output_type": "display_data"
    }
   ],
   "source": [
    "df_dx = diff(f, x)\n",
    "display(df_dx)\n",
    "\n",
    "df_dy = diff(f, y)\n",
    "display(df_dy)"
   ]
  },
  {
   "cell_type": "markdown",
   "id": "e4aaa41e-f245-4e77-b4cf-cd247fde67ce",
   "metadata": {},
   "source": [
    "We can also compute mixed partial derivatives (such as $\\dfrac{\\partial^2 f}{\\partial x \\partial y}$):"
   ]
  },
  {
   "cell_type": "code",
   "execution_count": 5,
   "id": "e927e401-27ed-447a-8734-a68d49481789",
   "metadata": {},
   "outputs": [
    {
     "data": {
      "text/latex": [
       "$\\displaystyle 5$"
      ],
      "text/plain": [
       "5"
      ]
     },
     "metadata": {},
     "output_type": "display_data"
    }
   ],
   "source": [
    "d2f_dxdy = diff(f, x, y)\n",
    "\n",
    "display(d2f_dxdy)"
   ]
  },
  {
   "cell_type": "markdown",
   "id": "b9c32e9b-f4a3-4fc3-8b29-6d1216716841",
   "metadata": {},
   "source": [
    "## Definite Integrals"
   ]
  },
  {
   "cell_type": "markdown",
   "id": "7345ba97-43f4-4346-872c-9c0e59ec5936",
   "metadata": {},
   "source": [
    "Integrals are also straightforward to compute in SymPy. To do this, we use the `integrate(f, bounds)` function, where `f` is an expression and `bounds` is a Python `tuple` consisting of the following items:\n",
    "\n",
    "1. The symbol the integratal is evaluated with respect to\n",
    "2. The lower bound of the integral\n",
    "3. The upper bound of the integral\n",
    "\n",
    "We can format the bounds by declaring a Python tuple as follows:\n",
    "```\n",
    "bounds = (x, -10, 10)\n",
    "```\n",
    "In the above example, the bounds represent an integral of a function of $x$ from $x=-10$ to $x=10$. Instead of storing this tuple in a Python variable, it is often easier to pass the tuple `(x, -10, 10)` directly as the `bounds` argument to `integrate()`.\n"
   ]
  },
  {
   "cell_type": "markdown",
   "id": "898afa0f-cd94-4db2-82a8-5ca648fcd81c",
   "metadata": {},
   "source": [
    "For example, to evaluate the integral\n",
    "$$\\int_{0}^{10} \\frac{1}{\\sqrt{r}}\\ dr$$\n",
    "we would use the following Sympy code:\n"
   ]
  },
  {
   "cell_type": "code",
   "execution_count": 6,
   "id": "62beda86-e558-4010-a11e-8ebc038482dc",
   "metadata": {},
   "outputs": [
    {
     "data": {
      "text/latex": [
       "$\\displaystyle 2 \\sqrt{10}$"
      ],
      "text/plain": [
       "2*sqrt(10)"
      ]
     },
     "metadata": {},
     "output_type": "display_data"
    }
   ],
   "source": [
    "# create function:\n",
    "f = 1/sqrt(r)\n",
    "\n",
    "# evaluate and display integral\n",
    "integral = integrate(f, (r, 0, 10))\n",
    "display(integral)"
   ]
  },
  {
   "cell_type": "markdown",
   "id": "36262fa1-90dc-4f4a-92ad-9face75ac12c",
   "metadata": {},
   "source": [
    "We can also specify bounds of integration that extend to infinity using the special `oo` ($\\infty$) and `-oo` ($-\\infty$) symbols. As an example, let's evaluate the Gaussian integral\n",
    "$$\\int_{-\\infty}^{\\infty} e^{-x^2} \\ dx.$$"
   ]
  },
  {
   "cell_type": "code",
   "execution_count": 7,
   "id": "904714fe-cf11-41a5-a371-8819820da1e0",
   "metadata": {},
   "outputs": [
    {
     "data": {
      "text/latex": [
       "$\\displaystyle \\sqrt{\\pi}$"
      ],
      "text/plain": [
       "sqrt(pi)"
      ]
     },
     "metadata": {},
     "output_type": "display_data"
    }
   ],
   "source": [
    "f = exp(-x**2)\n",
    "integral = integrate(f, (x, -oo, oo))\n",
    "display(integral)"
   ]
  },
  {
   "cell_type": "markdown",
   "id": "3f4fc965-535f-479e-97e9-8783ec44b19d",
   "metadata": {},
   "source": [
    "## Indefinite Integrals\n",
    "\n",
    "In addition to definite integrals, SymPy can evaluate indefinite integrals. To do this, simply pass the variable of integration instead of the tuple containing the variable and the integration bounds.\n",
    "\n",
    "Note, however, that the resulting integral is only unique up to an abritrary constant (a $+C$ term):"
   ]
  },
  {
   "cell_type": "code",
   "execution_count": 8,
   "id": "844e69ad-94aa-479c-8a3b-8f5302f1a2e4",
   "metadata": {},
   "outputs": [
    {
     "data": {
      "text/latex": [
       "$\\displaystyle \\log{\\left(r \\right)}$"
      ],
      "text/plain": [
       "log(r)"
      ]
     },
     "metadata": {},
     "output_type": "display_data"
    }
   ],
   "source": [
    "f = 1/r\n",
    "display(integrate(f,r))"
   ]
  },
  {
   "cell_type": "markdown",
   "id": "1ba16a05-b4a7-493c-a93b-d8327bf7d3a0",
   "metadata": {},
   "source": [
    "As a final side-note, It is also possible to Sympy to handle integrals of complex-valued functions with respect to real-valued integration parameters. However, you must be careful when substituting complex-valued integration parameters, as sometimes Sympy can make the wrong assumption about the kind of integration you are performing and give the incorrect result. For most basic integration problems, it is quite reliable, however.\n",
    "\n",
    "Here's an example of how we can combine the `simplify()` and `integrate()` function to get a cleaner form for the integral:"
   ]
  },
  {
   "cell_type": "code",
   "execution_count": 9,
   "id": "8b124353-ac6f-4138-89aa-44f612b22a7b",
   "metadata": {},
   "outputs": [
    {
     "data": {
      "text/latex": [
       "$\\displaystyle i \\left(1 - e^{i}\\right) e^{- r}$"
      ],
      "text/plain": [
       "I*(1 - exp(I))*exp(-r)"
      ]
     },
     "metadata": {},
     "output_type": "display_data"
    }
   ],
   "source": [
    "f = exp(-r + I*x)\n",
    "\n",
    "result = simplify(integrate(f, (x, 0, 1)))\n",
    "\n",
    "display(result)"
   ]
  }
 ],
 "metadata": {
  "kernelspec": {
   "display_name": "Python 3 (ipykernel)",
   "language": "python",
   "name": "python3"
  },
  "language_info": {
   "codemirror_mode": {
    "name": "ipython",
    "version": 3
   },
   "file_extension": ".py",
   "mimetype": "text/x-python",
   "name": "python",
   "nbconvert_exporter": "python",
   "pygments_lexer": "ipython3",
   "version": "3.10.12"
  }
 },
 "nbformat": 4,
 "nbformat_minor": 5
}
